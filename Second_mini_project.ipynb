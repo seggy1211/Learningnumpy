{
 "cells": [
  {
   "cell_type": "markdown",
   "metadata": {},
   "source": [
    "Second mini project"
   ]
  },
  {
   "cell_type": "code",
   "execution_count": 1,
   "metadata": {},
   "outputs": [],
   "source": [
    "import numpy as np"
   ]
  },
  {
   "cell_type": "code",
   "execution_count": 2,
   "metadata": {},
   "outputs": [
    {
     "data": {
      "text/plain": [
       "array([[10, 16, 65, 29, 90],\n",
       "       [94, 30,  9, 74,  1],\n",
       "       [41, 37, 17, 12, 55],\n",
       "       [89, 63, 34, 73, 79],\n",
       "       [50, 52, 55, 78, 70],\n",
       "       [14, 26, 14, 93, 87],\n",
       "       [31, 31, 90, 13, 66],\n",
       "       [32, 58, 37, 28, 19],\n",
       "       [94, 78, 23, 24, 95],\n",
       "       [12, 29, 75, 89, 10],\n",
       "       [16, 19, 81, 72, 89],\n",
       "       [12, 18, 47,  8, 76],\n",
       "       [29, 34, 85, 97, 89],\n",
       "       [45,  6,  5, 72, 89],\n",
       "       [89, 51, 55, 35, 16],\n",
       "       [78, 89, 16,  7, 86],\n",
       "       [23, 12, 13, 93, 97],\n",
       "       [63, 58, 80, 43, 58],\n",
       "       [98, 51, 46, 41, 90],\n",
       "       [74, 38,  1, 19, 24]])"
      ]
     },
     "execution_count": 2,
     "metadata": {},
     "output_type": "execute_result"
    }
   ],
   "source": [
    "\"\"\"\"Creating the data\"\"\"\n",
    "np.random.seed(10)\n",
    "number_of_students = 20 # one row = 1 studnet\n",
    "number_of_subjects = 5 # one column = 1 subject\n",
    "marks = np.random.randint(1, 100, size =(number_of_students, number_of_subjects))\n",
    "marks"
   ]
  },
  {
   "cell_type": "code",
   "execution_count": 3,
   "metadata": {},
   "outputs": [
    {
     "data": {
      "text/plain": [
       "array([49.7, 39.8, 42.4, 50. , 64.3])"
      ]
     },
     "execution_count": 3,
     "metadata": {},
     "output_type": "execute_result"
    }
   ],
   "source": [
    "\"\"\"\"Calculating the mean for a subject\"\"\"\n",
    "subject_mean = np.mean(marks, axis = 0)\n",
    "subject_mean"
   ]
  },
  {
   "cell_type": "code",
   "execution_count": 4,
   "metadata": {},
   "outputs": [
    {
     "data": {
      "text/plain": [
       "array([42. , 41.6, 32.4, 67.6, 61. , 46.8, 46.2, 34.8, 62.8, 43. , 55.4,\n",
       "       32.2, 66.8, 43.4, 49.2, 55.2, 47.6, 60.4, 65.2, 31.2])"
      ]
     },
     "execution_count": 4,
     "metadata": {},
     "output_type": "execute_result"
    }
   ],
   "source": [
    "\"\"\"Calculating the mean for a student\"\"\"\n",
    "student_mean = np.mean(marks, axis = 1)\n",
    "student_mean"
   ]
  },
  {
   "cell_type": "code",
   "execution_count": 5,
   "metadata": {},
   "outputs": [],
   "source": [
    "\"\"\" The highest and lowest subject score\"\"\"\n",
    "min = np.min(marks, axis=0)\n",
    "max = np.max(marks, axis=0)\n",
    "#print(\"The highest score in every subject is\", max, \"The lowest score in every subject is\", min)\n",
    "min_s = np.min(marks, axis=1)\n",
    "max_s = np.max(marks, axis=1)\n",
    "#max_s = np.vstack(max_s)\n",
    "#print(\"The highest score for every student is\", max_s, \"The lowest score for every student is\", min_s)"
   ]
  },
  {
   "cell_type": "code",
   "execution_count": 9,
   "metadata": {},
   "outputs": [
    {
     "name": "stdout",
     "output_type": "stream",
     "text": [
      "The 1 subject was failed by 11 students\n",
      "The 2 subject was failed by 12 students\n",
      "The 3 subject was failed by 12 students\n",
      "The 4 subject was failed by 11 students\n",
      "The 5 subject was failed by 5 students\n"
     ]
    }
   ],
   "source": [
    "\"\"\" Idenitgy the students who have failed the class\"\"\"\n",
    "#failed_students = marks[marks<50]\n",
    "failed_students = np.sum(marks < 50, axis = 0) # summs up all of the students who scored under 50 in this subject, axis=0\n",
    "for i, num in enumerate(failed_students):\n",
    "    print(f\"The {i+1} subject was failed by {num} students\")\n"
   ]
  },
  {
   "cell_type": "code",
   "execution_count": 7,
   "metadata": {},
   "outputs": [
    {
     "data": {
      "text/plain": [
       "64.3"
      ]
     },
     "execution_count": 7,
     "metadata": {},
     "output_type": "execute_result"
    }
   ],
   "source": [
    "\"\"\"Calculating the highest subject mean\"\"\"\n",
    "h_subject = np.max(subject_mean)\n",
    "h_subject\n"
   ]
  },
  {
   "cell_type": "code",
   "execution_count": 8,
   "metadata": {},
   "outputs": [
    {
     "name": "stdout",
     "output_type": "stream",
     "text": [
      "The student № 4 has the best over-all marks [89 63 34 73 79]\n"
     ]
    }
   ],
   "source": [
    "\"\"\" The student, who performed the best in all subjects \"\"\"\n",
    "h_student = np.argmax(np.sum(marks, axis=1)) #argmax finds the index of the student\n",
    "h_student\n",
    "print(\"The student №\", h_student+1, \"has the best over-all marks\", marks[h_student])"
   ]
  }
 ],
 "metadata": {
  "kernelspec": {
   "display_name": "base",
   "language": "python",
   "name": "python3"
  },
  "language_info": {
   "name": "python",
   "version": "3.11.5"
  }
 },
 "nbformat": 4,
 "nbformat_minor": 5
}
