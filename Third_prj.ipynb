{
 "cells": [
  {
   "cell_type": "markdown",
   "metadata": {},
   "source": [
    "Analyzing Sales Data"
   ]
  },
  {
   "cell_type": "code",
   "execution_count": 1,
   "metadata": {},
   "outputs": [],
   "source": [
    "import numpy as np"
   ]
  },
  {
   "cell_type": "code",
   "execution_count": 2,
   "metadata": {},
   "outputs": [
    {
     "name": "stdout",
     "output_type": "stream",
     "text": [
      "Monthly sales [485 267 178 366 387 386 459 192 110 306 439 262]\n"
     ]
    }
   ],
   "source": [
    "\"\"\"\"Creating the amount of sales made for one product for a year\"\"\"\n",
    "sales = np.random.randint(100,501, size = (12))\n",
    "print (\"Monthly sales\", sales)"
   ]
  },
  {
   "cell_type": "code",
   "execution_count": 3,
   "metadata": {},
   "outputs": [
    {
     "name": "stdout",
     "output_type": "stream",
     "text": [
      "Number of units sold in a year 3837\n"
     ]
    }
   ],
   "source": [
    "\"\"\" Number of units sold in a year \"\"\"\n",
    "sales_sum = np.sum(sales)\n",
    "print (\"Number of units sold in a year\", sales_sum)"
   ]
  },
  {
   "cell_type": "code",
   "execution_count": 4,
   "metadata": {},
   "outputs": [
    {
     "name": "stdout",
     "output_type": "stream",
     "text": [
      "Mean 319.75 Median 336.0\n"
     ]
    }
   ],
   "source": [
    "\"\"\" Calculating mean and median \"\"\"\n",
    "mean = np.mean(sales)\n",
    "median = np.median(sales)\n",
    "print (\"Mean\", mean, \"Median\", median)"
   ]
  },
  {
   "cell_type": "code",
   "execution_count": 5,
   "metadata": {},
   "outputs": [
    {
     "name": "stdout",
     "output_type": "stream",
     "text": [
      "Max 485 Min 110\n"
     ]
    }
   ],
   "source": [
    "\"\"\" Finding max and min \"\"\"\n",
    "max_s = np.max(sales)\n",
    "min_s = np.min(sales)\n",
    "print(\"Max\",max_s, \"Min\", min_s)"
   ]
  },
  {
   "cell_type": "code",
   "execution_count": 6,
   "metadata": {},
   "outputs": [
    {
     "name": "stdout",
     "output_type": "stream",
     "text": [
      "Aboce average [485 366 387 386 459 439]\n"
     ]
    }
   ],
   "source": [
    "\"\"\" Above average stats \"\"\"\n",
    "above_average = sales[sales>mean]\n",
    "print (\"Aboce average\", above_average)"
   ]
  },
  {
   "cell_type": "code",
   "execution_count": 7,
   "metadata": {},
   "outputs": [
    {
     "name": "stdout",
     "output_type": "stream",
     "text": [
      "The median is greater than the mean, indicating a left-skewed distribution.\n"
     ]
    }
   ],
   "source": [
    "\"\"\" Aditional analysis \"\"\"\n",
    "if median < mean:\n",
    "    print(\"The median is less than the mean, indicating a right-skewed distribution.\")\n",
    "else:\n",
    "    print(\"The median is greater than the mean, indicating a left-skewed distribution.\")"
   ]
  }
 ],
 "metadata": {
  "kernelspec": {
   "display_name": "base",
   "language": "python",
   "name": "python3"
  },
  "language_info": {
   "codemirror_mode": {
    "name": "ipython",
    "version": 3
   },
   "file_extension": ".py",
   "mimetype": "text/x-python",
   "name": "python",
   "nbconvert_exporter": "python",
   "pygments_lexer": "ipython3",
   "version": "3.11.5"
  }
 },
 "nbformat": 4,
 "nbformat_minor": 5
}
