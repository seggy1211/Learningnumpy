{
 "cells": [
  {
   "cell_type": "code",
   "execution_count": 29,
   "metadata": {},
   "outputs": [],
   "source": [
    "import numpy as np"
   ]
  },
  {
   "cell_type": "code",
   "execution_count": 30,
   "metadata": {},
   "outputs": [],
   "source": [
    "\"\"\" Creating a 1-10 array \"\"\"\n",
    "x = np.arange(1, 11)"
   ]
  },
  {
   "cell_type": "code",
   "execution_count": 31,
   "metadata": {},
   "outputs": [
    {
     "data": {
      "text/plain": [
       "array([[ 1,  2,  3,  4,  5],\n",
       "       [ 6,  7,  8,  9, 10]])"
      ]
     },
     "execution_count": 31,
     "metadata": {},
     "output_type": "execute_result"
    }
   ],
   "source": [
    "\"\"\" Making the array 2d \"\"\"\n",
    "x = x.reshape(2, 5)\n",
    "x"
   ]
  },
  {
   "cell_type": "code",
   "execution_count": 32,
   "metadata": {},
   "outputs": [
    {
     "data": {
      "text/plain": [
       "3"
      ]
     },
     "execution_count": 32,
     "metadata": {},
     "output_type": "execute_result"
    }
   ],
   "source": [
    "\"\"\" Accessing the 3d element \"\"\"\n",
    "x[0, 2]"
   ]
  },
  {
   "cell_type": "code",
   "execution_count": 33,
   "metadata": {},
   "outputs": [
    {
     "data": {
      "text/plain": [
       "array([[ 2,  4,  6,  8, 10],\n",
       "       [12, 14, 16, 18, 20]])"
      ]
     },
     "execution_count": 33,
     "metadata": {},
     "output_type": "execute_result"
    }
   ],
   "source": [
    "\"\"\" Multiply each element by 2 \"\"\"\n",
    "# for i in range(len(x)):\n",
    "#     for j in range(len(x[i])):\n",
    "#         x[i][j] *= 2\n",
    "# x\n",
    "x = x * 2\n",
    "x"
   ]
  },
  {
   "cell_type": "code",
   "execution_count": 34,
   "metadata": {},
   "outputs": [
    {
     "data": {
      "text/plain": [
       "(5.744562646538029, 11.0)"
      ]
     },
     "execution_count": 34,
     "metadata": {},
     "output_type": "execute_result"
    }
   ],
   "source": [
    "\"\"\"\" Getting mean \"\"\"\n",
    "x_mean = np.mean(x)\n",
    "\"\"\"\" Getting the diviation \"\"\"\n",
    "x_sd = np.std(x)\n",
    "x_sd, x_mean"
   ]
  },
  {
   "cell_type": "code",
   "execution_count": 35,
   "metadata": {},
   "outputs": [
    {
     "data": {
      "text/plain": [
       "array([0, 1, 2, 3, 4, 5, 6, 0, 1, 2, 3, 4, 5])"
      ]
     },
     "execution_count": 35,
     "metadata": {},
     "output_type": "execute_result"
    }
   ],
   "source": [
    "\"\"\"\" Concatenating 2 arrays horizontally \"\"\"\n",
    "arr1 = np.arange(7)\n",
    "arr2 = np.arange(6)\n",
    "y = np.hstack((arr1, arr2)) # same as np.concatenate([arr1, arr2])\n",
    "y"
   ]
  },
  {
   "cell_type": "code",
   "execution_count": 36,
   "metadata": {},
   "outputs": [
    {
     "data": {
      "text/plain": [
       "array([6])"
      ]
     },
     "execution_count": 36,
     "metadata": {},
     "output_type": "execute_result"
    }
   ],
   "source": [
    "\"\"\" Greater then 5 \"\"\"\n",
    "# for _ in y:\n",
    "#     if _ > 5:\n",
    "#         print(_)\n",
    "z = y[y>5]\n",
    "z"
   ]
  },
  {
   "cell_type": "code",
   "execution_count": 37,
   "metadata": {},
   "outputs": [
    {
     "data": {
      "text/plain": [
       "(array([[ 55, 130],\n",
       "        [130, 330]]),\n",
       " array([[ 1,  2,  3,  4,  5],\n",
       "        [ 6,  7,  8,  9, 10]]),\n",
       " array([[ 1,  6],\n",
       "        [ 2,  7],\n",
       "        [ 3,  8],\n",
       "        [ 4,  9],\n",
       "        [ 5, 10]]))"
      ]
     },
     "execution_count": 37,
     "metadata": {},
     "output_type": "execute_result"
    }
   ],
   "source": [
    "\"\"\" Matrix multiplication, \"\"\"\n",
    "arr3 = np.arange(1, 11).reshape(2, 5)\n",
    "arr4 = np.arange(1, 11).reshape(2, 5)\n",
    "m = np.matmul(arr3, arr4.T) # transpoing the form\n",
    "m, arr3, arr4.T"
   ]
  },
  {
   "cell_type": "code",
   "execution_count": 38,
   "metadata": {},
   "outputs": [
    {
     "data": {
      "text/plain": [
       "array([[ 55, 130],\n",
       "       [130, 330]])"
      ]
     },
     "execution_count": 38,
     "metadata": {},
     "output_type": "execute_result"
    }
   ],
   "source": [
    "np.save(\"Multiplied_array.npy\", m)  # Save the multiplied array with the .npy extension\n",
    "load_arr = np.load(\"Multiplied_array.npy\")  # Load the multiplied array with the .npy extension\n",
    "load_arr\n"
   ]
  },
  {
   "cell_type": "code",
   "execution_count": 45,
   "metadata": {},
   "outputs": [
    {
     "data": {
      "text/plain": [
       "array([[0, 0, 0],\n",
       "       [0, 0, 0],\n",
       "       [0, 0, 0]])"
      ]
     },
     "execution_count": 45,
     "metadata": {},
     "output_type": "execute_result"
    }
   ],
   "source": [
    "\"\"\" Making random matrix \"\"\"\n",
    "random_arr = np.random.randint(2, size =(3,3))\n",
    "random_arr"
   ]
  },
  {
   "cell_type": "code",
   "execution_count": 53,
   "metadata": {},
   "outputs": [
    {
     "data": {
      "text/plain": [
       "array([[2, 4, 4],\n",
       "       [3, 7, 4],\n",
       "       [3, 1, 5],\n",
       "       [2, 3, 3]])"
      ]
     },
     "execution_count": 53,
     "metadata": {},
     "output_type": "execute_result"
    }
   ],
   "source": [
    "\"\"\"\"Array stacking verically\"\"\"\n",
    "random_arr_1 = np.random.randint(1, 11, size =(1,3))\n",
    "random_arr_2 = np.random.randint(1, 11, size =(3,3))\n",
    "st = np.vstack([random_arr_1, random_arr_2])\n",
    "st"
   ]
  },
  {
   "cell_type": "code",
   "execution_count": 59,
   "metadata": {},
   "outputs": [
    {
     "name": "stdout",
     "output_type": "stream",
     "text": [
      "Elements [1 2 3 4]\n",
      "Count [1 2 1 3]\n"
     ]
    }
   ],
   "source": [
    "\"\"\" Displaying unique elements and count them \"\"\"\n",
    "arr = np.array([1, 2, 2, 3, 4, 4, 4])\n",
    "elements, count = np.unique(arr, return_counts=True)\n",
    "print(\"Elements\", elements)\n",
    "print(\"Count\", count)"
   ]
  },
  {
   "cell_type": "code",
   "execution_count": 69,
   "metadata": {},
   "outputs": [
    {
     "data": {
      "text/plain": [
       "array([[1, 2, 3],\n",
       "       [4, 5, 6],\n",
       "       [7, 8, 9]])"
      ]
     },
     "execution_count": 69,
     "metadata": {},
     "output_type": "execute_result"
    }
   ],
   "source": [
    "\"\"\" Reshaping and shapin back \"\"\"\n",
    "arr = np.arange(1, 10).reshape(3, 3)\n",
    "arr_1 = np.hstack(arr) #making 1d or arr.flatten()\n",
    "arr_1.reshape((3,3)) #turning back into 3d or np.reshape(arr_1, (3,3))"
   ]
  },
  {
   "cell_type": "code",
   "execution_count": 75,
   "metadata": {},
   "outputs": [
    {
     "data": {
      "text/plain": [
       "array([[-1,  2, -1],\n",
       "       [ 4, -1,  6],\n",
       "       [-1,  8, -1]])"
      ]
     },
     "execution_count": 75,
     "metadata": {},
     "output_type": "execute_result"
    }
   ],
   "source": [
    "\"\"\" Changing all odd numbers into -1 \"\"\"\n",
    "arr = np.arange(1, 10).reshape(3,3)\n",
    "arr[arr % 2 !=0] = -1\n",
    "arr"
   ]
  },
  {
   "cell_type": "code",
   "execution_count": 83,
   "metadata": {},
   "outputs": [
    {
     "name": "stdout",
     "output_type": "stream",
     "text": [
      "[[568  31 529]\n",
      " [841 353 462]\n",
      " [892 332 615]]\n",
      "513.6666666666666\n"
     ]
    },
    {
     "data": {
      "text/plain": [
       "array([568, 529, 841, 892, 615])"
      ]
     },
     "execution_count": 83,
     "metadata": {},
     "output_type": "execute_result"
    }
   ],
   "source": [
    "\"\"\"\" Extracting all greater then mean \"\"\"\n",
    "arr = np.random.randint(1, 1000, size =(3,3))\n",
    "arr_m = np.mean(arr)\n",
    "arr_g = arr[arr > arr_m]\n",
    "arr, arr_m, arr_g"
   ]
  },
  {
   "cell_type": "code",
   "execution_count": 87,
   "metadata": {},
   "outputs": [
    {
     "data": {
      "text/plain": [
       "(array([[1, 2, 3],\n",
       "        [4, 5, 6],\n",
       "        [7, 8, 9]]),\n",
       " array([[-3, -3, -3],\n",
       "        [ 4,  5,  6],\n",
       "        [ 7,  8,  9]]))"
      ]
     },
     "execution_count": 87,
     "metadata": {},
     "output_type": "execute_result"
    }
   ],
   "source": [
    "\"\"\" Making a copy of an array \"\"\"\n",
    "arr = np.arange(1, 10).reshape(3,3)\n",
    "y = np.array(arr, copy=True)  \n",
    "y[0] = -3\n",
    "arr, y"
   ]
  }
 ],
 "metadata": {
  "kernelspec": {
   "display_name": "base",
   "language": "python",
   "name": "python3"
  },
  "language_info": {
   "codemirror_mode": {
    "name": "ipython",
    "version": 3
   },
   "file_extension": ".py",
   "mimetype": "text/x-python",
   "name": "python",
   "nbconvert_exporter": "python",
   "pygments_lexer": "ipython3",
   "version": "3.11.5"
  }
 },
 "nbformat": 4,
 "nbformat_minor": 5
}
