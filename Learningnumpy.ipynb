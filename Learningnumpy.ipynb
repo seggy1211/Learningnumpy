{
 "cells": [
  {
   "cell_type": "code",
   "execution_count": 1,
   "metadata": {},
   "outputs": [],
   "source": [
    "import numpy as np"
   ]
  },
  {
   "cell_type": "code",
   "execution_count": 2,
   "metadata": {},
   "outputs": [],
   "source": [
    "\"\"\" Creating a 1-10 array \"\"\"\n",
    "x = np.arange(1, 11)"
   ]
  },
  {
   "cell_type": "code",
   "execution_count": 3,
   "metadata": {},
   "outputs": [
    {
     "data": {
      "text/plain": [
       "array([[ 1,  2,  3,  4,  5],\n",
       "       [ 6,  7,  8,  9, 10]])"
      ]
     },
     "execution_count": 3,
     "metadata": {},
     "output_type": "execute_result"
    }
   ],
   "source": [
    "\"\"\" Making the array 2d \"\"\"\n",
    "x = x.reshape(2, 5)\n",
    "x"
   ]
  },
  {
   "cell_type": "code",
   "execution_count": 4,
   "metadata": {},
   "outputs": [
    {
     "data": {
      "text/plain": [
       "3"
      ]
     },
     "execution_count": 4,
     "metadata": {},
     "output_type": "execute_result"
    }
   ],
   "source": [
    "\"\"\" Accessing the 3d element \"\"\"\n",
    "x[0, 2]"
   ]
  },
  {
   "cell_type": "code",
   "execution_count": 5,
   "metadata": {},
   "outputs": [
    {
     "data": {
      "text/plain": [
       "array([[ 2,  4,  6,  8, 10],\n",
       "       [12, 14, 16, 18, 20]])"
      ]
     },
     "execution_count": 5,
     "metadata": {},
     "output_type": "execute_result"
    }
   ],
   "source": [
    "\"\"\" Multiply each element by 2 \"\"\"\n",
    "# for i in range(len(x)):\n",
    "#     for j in range(len(x[i])):\n",
    "#         x[i][j] *= 2\n",
    "# x\n",
    "x = x * 2\n",
    "x"
   ]
  },
  {
   "cell_type": "code",
   "execution_count": 6,
   "metadata": {},
   "outputs": [
    {
     "data": {
      "text/plain": [
       "(5.744562646538029, 11.0)"
      ]
     },
     "execution_count": 6,
     "metadata": {},
     "output_type": "execute_result"
    }
   ],
   "source": [
    "\"\"\"\" Getting mean \"\"\"\n",
    "x_mean = np.mean(x)\n",
    "\"\"\"\" Getting the diviation \"\"\"\n",
    "x_sd = np.std(x)\n",
    "x_sd, x_mean"
   ]
  },
  {
   "cell_type": "code",
   "execution_count": 7,
   "metadata": {},
   "outputs": [
    {
     "data": {
      "text/plain": [
       "array([0, 1, 2, 3, 4, 5, 6, 0, 1, 2, 3, 4, 5])"
      ]
     },
     "execution_count": 7,
     "metadata": {},
     "output_type": "execute_result"
    }
   ],
   "source": [
    "\"\"\"\" Concatenating 2 arrays horizontally \"\"\"\n",
    "arr1 = np.arange(7)\n",
    "arr2 = np.arange(6)\n",
    "y = np.hstack((arr1, arr2)) # same as np.concatenate([arr1, arr2])\n",
    "y"
   ]
  },
  {
   "cell_type": "code",
   "execution_count": 8,
   "metadata": {},
   "outputs": [
    {
     "data": {
      "text/plain": [
       "array([6])"
      ]
     },
     "execution_count": 8,
     "metadata": {},
     "output_type": "execute_result"
    }
   ],
   "source": [
    "\"\"\" Greater then 5 \"\"\"\n",
    "# for _ in y:\n",
    "#     if _ > 5:\n",
    "#         print(_)\n",
    "z = y[y>5]\n",
    "z"
   ]
  },
  {
   "cell_type": "code",
   "execution_count": 9,
   "metadata": {},
   "outputs": [
    {
     "data": {
      "text/plain": [
       "(array([[ 55, 130],\n",
       "        [130, 330]]),\n",
       " array([[ 1,  2,  3,  4,  5],\n",
       "        [ 6,  7,  8,  9, 10]]),\n",
       " array([[ 1,  6],\n",
       "        [ 2,  7],\n",
       "        [ 3,  8],\n",
       "        [ 4,  9],\n",
       "        [ 5, 10]]))"
      ]
     },
     "execution_count": 9,
     "metadata": {},
     "output_type": "execute_result"
    }
   ],
   "source": [
    "\"\"\" Matrix multiplication, \"\"\"\n",
    "arr3 = np.arange(1, 11).reshape(2, 5)\n",
    "arr4 = np.arange(1, 11).reshape(2, 5)\n",
    "m = np.matmul(arr3, arr4.T) # transpoing the form\n",
    "m, arr3, arr4.T"
   ]
  },
  {
   "cell_type": "code",
   "execution_count": 10,
   "metadata": {},
   "outputs": [
    {
     "data": {
      "text/plain": [
       "array([[ 55, 130],\n",
       "       [130, 330]])"
      ]
     },
     "execution_count": 10,
     "metadata": {},
     "output_type": "execute_result"
    }
   ],
   "source": [
    "np.save(\"Multiplied_array.npy\", m)  # Save the multiplied array with the .npy extension\n",
    "load_arr = np.load(\"Multiplied_array.npy\")  # Load the multiplied array with the .npy extension\n",
    "load_arr\n"
   ]
  },
  {
   "cell_type": "code",
   "execution_count": 11,
   "metadata": {},
   "outputs": [
    {
     "data": {
      "text/plain": [
       "array([[1, 0, 0],\n",
       "       [1, 0, 1],\n",
       "       [0, 0, 0]])"
      ]
     },
     "execution_count": 11,
     "metadata": {},
     "output_type": "execute_result"
    }
   ],
   "source": [
    "\"\"\" Making random matrix \"\"\"\n",
    "random_arr = np.random.randint(2, size =(3,3))\n",
    "random_arr"
   ]
  },
  {
   "cell_type": "code",
   "execution_count": 12,
   "metadata": {},
   "outputs": [
    {
     "data": {
      "text/plain": [
       "array([[ 5,  1,  1],\n",
       "       [ 6,  3, 10],\n",
       "       [ 7, 10,  1],\n",
       "       [ 2,  8,  4]])"
      ]
     },
     "execution_count": 12,
     "metadata": {},
     "output_type": "execute_result"
    }
   ],
   "source": [
    "\"\"\"\"Array stacking verically\"\"\"\n",
    "random_arr_1 = np.random.randint(1, 11, size =(1,3))\n",
    "random_arr_2 = np.random.randint(1, 11, size =(3,3))\n",
    "st = np.vstack([random_arr_1, random_arr_2])\n",
    "st"
   ]
  },
  {
   "cell_type": "code",
   "execution_count": 13,
   "metadata": {},
   "outputs": [
    {
     "name": "stdout",
     "output_type": "stream",
     "text": [
      "Elements [1 2 3 4]\n",
      "Count [1 2 1 3]\n"
     ]
    }
   ],
   "source": [
    "\"\"\" Displaying unique elements and count them \"\"\"\n",
    "arr = np.array([1, 2, 2, 3, 4, 4, 4])\n",
    "elements, count = np.unique(arr, return_counts=True)\n",
    "print(\"Elements\", elements)\n",
    "print(\"Count\", count)"
   ]
  },
  {
   "cell_type": "code",
   "execution_count": 14,
   "metadata": {},
   "outputs": [
    {
     "data": {
      "text/plain": [
       "array([[1, 2, 3],\n",
       "       [4, 5, 6],\n",
       "       [7, 8, 9]])"
      ]
     },
     "execution_count": 14,
     "metadata": {},
     "output_type": "execute_result"
    }
   ],
   "source": [
    "\"\"\" Reshaping and shapin back \"\"\"\n",
    "arr = np.arange(1, 10).reshape(3, 3)\n",
    "arr_1 = np.hstack(arr) #making 1d or arr.flatten()\n",
    "arr_1.reshape((3,3)) #turning back into 3d or np.reshape(arr_1, (3,3))"
   ]
  },
  {
   "cell_type": "code",
   "execution_count": 15,
   "metadata": {},
   "outputs": [
    {
     "data": {
      "text/plain": [
       "array([[-1,  2, -1],\n",
       "       [ 4, -1,  6],\n",
       "       [-1,  8, -1]])"
      ]
     },
     "execution_count": 15,
     "metadata": {},
     "output_type": "execute_result"
    }
   ],
   "source": [
    "\"\"\" Changing all odd numbers into -1 \"\"\"\n",
    "arr = np.arange(1, 10).reshape(3,3)\n",
    "arr[arr % 2 !=0] = -1\n",
    "arr"
   ]
  },
  {
   "cell_type": "code",
   "execution_count": 16,
   "metadata": {},
   "outputs": [
    {
     "data": {
      "text/plain": [
       "(array([[769, 190, 223],\n",
       "        [ 48, 988, 982],\n",
       "        [144, 932, 981]]),\n",
       " 584.1111111111111,\n",
       " array([769, 988, 982, 932, 981]))"
      ]
     },
     "execution_count": 16,
     "metadata": {},
     "output_type": "execute_result"
    }
   ],
   "source": [
    "\"\"\"\" Extracting all greater then mean \"\"\"\n",
    "arr = np.random.randint(1, 1000, size =(3,3))\n",
    "arr_m = np.mean(arr)\n",
    "arr_g = arr[arr > arr_m]\n",
    "arr, arr_m, arr_g"
   ]
  },
  {
   "cell_type": "code",
   "execution_count": 17,
   "metadata": {},
   "outputs": [
    {
     "data": {
      "text/plain": [
       "(array([[1, 2, 3],\n",
       "        [4, 5, 6],\n",
       "        [7, 8, 9]]),\n",
       " array([[-3, -3, -3],\n",
       "        [ 4,  5,  6],\n",
       "        [ 7,  8,  9]]))"
      ]
     },
     "execution_count": 17,
     "metadata": {},
     "output_type": "execute_result"
    }
   ],
   "source": [
    "\"\"\" Making a copy of an array \"\"\"\n",
    "arr = np.arange(1, 10).reshape(3,3)\n",
    "y = np.array(arr, copy=True)  \n",
    "y[0] = -3\n",
    "arr, y"
   ]
  },
  {
   "cell_type": "code",
   "execution_count": 18,
   "metadata": {},
   "outputs": [
    {
     "name": "stdout",
     "output_type": "stream",
     "text": [
      "A [[0.77132064 0.02075195 0.63364823]\n",
      " [0.74880388 0.49850701 0.22479665]\n",
      " [0.19806286 0.76053071 0.16911084]\n",
      " [0.08833981 0.68535982 0.95339335]] \n",
      "B [[0.00394827 0.51219226 0.81262096 0.61252607]\n",
      " [0.72175532 0.29187607 0.91777412 0.71457578]\n",
      " [0.54254437 0.14217005 0.37334076 0.67413362]] \n",
      "C [[0.36180549 0.49120726 0.88240364 0.91444642]\n",
      " [0.48471872 0.56099317 1.14993632 0.96642591]\n",
      " [0.64144922 0.34746948 0.92208141 0.7787788 ]\n",
      " [1.01226907 0.38083108 1.05673289 1.18656647]] \n",
      "D [[0.36180549 0.49120726 0.88240364 0.91444642]\n",
      " [0.48471872 0.56099317 1.14993632 0.96642591]\n",
      " [0.64144922 0.34746948 0.92208141 0.7787788 ]\n",
      " [1.01226907 0.38083108 1.05673289 1.18656647]]\n"
     ]
    },
    {
     "data": {
      "text/plain": [
       "array([[ True,  True,  True,  True],\n",
       "       [ True,  True,  True,  True],\n",
       "       [ True,  True,  True,  True],\n",
       "       [ True,  True,  True,  True]])"
      ]
     },
     "execution_count": 18,
     "metadata": {},
     "output_type": "execute_result"
    }
   ],
   "source": [
    "\"\"\" Matmul again \"\"\"\n",
    "# A = np.random.randint(1, 100, size=(4,3))\n",
    "# B = np.random.randint(1, 100, size=(3,4))\n",
    "# C= np.matmul(A, B)\n",
    "# C\n",
    "# The @ operator for multiplication invokes the matmul() C = A @ B\n",
    "np.random.seed(10)\n",
    "A = np.random.rand(4, 3) #return floar from 0 to 1\n",
    "B = np.random.rand(3, 4)\n",
    "C = np.dot(A, B)\n",
    "D = np.matmul(A, B)\n",
    "print(\"A\",A,\"\\nB\", B,\"\\nC\", C, \"\\nD\", D)\n",
    "C==D"
   ]
  },
  {
   "cell_type": "code",
   "execution_count": 19,
   "metadata": {},
   "outputs": [
    {
     "data": {
      "text/plain": [
       "array([[0.44183317, 0.43401399, 0.61776698, 0.51313824, 0.65039718,\n",
       "        0.60103895, 0.8052232 , 0.52164715, 0.90864888, 0.31923609,\n",
       "        0.09045935, 0.30070006, 0.11398436, 0.82868133, 0.04689632,\n",
       "        0.62628715, 0.54758616, 0.819287  , 0.19894754, 0.8568503 ,\n",
       "        0.35165264],\n",
       "       [0.75464769, 0.29596171, 0.88393648, 0.32551164, 0.1650159 ,\n",
       "        0.39252924, 0.09346037, 0.82110566, 0.15115202, 0.38411445,\n",
       "        0.94426071, 0.98762547, 0.45630455, 0.82612284, 0.25137413,\n",
       "        0.59737165, 0.90283176, 0.53455795, 0.59020136, 0.03928177,\n",
       "        0.35718176],\n",
       "       [0.07961309, 0.30545992, 0.33071931, 0.7738303 , 0.03995921,\n",
       "        0.42949218, 0.31492687, 0.63649114, 0.34634715, 0.04309736,\n",
       "        0.87991517, 0.76324059, 0.87809664, 0.41750914, 0.60557756,\n",
       "        0.51346663, 0.59783665, 0.26221566, 0.30087131, 0.02539978,\n",
       "        0.30306256]])"
      ]
     },
     "execution_count": 19,
     "metadata": {},
     "output_type": "execute_result"
    }
   ],
   "source": [
    "\"\"\"Reshaping once again\"\"\"\n",
    "A=np.random.rand(9,7)\n",
    "B = A.reshape(3,21)\n",
    "B"
   ]
  },
  {
   "cell_type": "code",
   "execution_count": 20,
   "metadata": {},
   "outputs": [
    {
     "name": "stdout",
     "output_type": "stream",
     "text": [
      "[0.77132064 0.02075195 0.63364823 0.74880388 0.49850701 0.22479665\n",
      " 0.19806286 0.76053071 0.16911084 0.08833981 0.68535982 0.95339335\n",
      " 0.00394827 0.51219226 0.81262096 0.61252607 0.72175532 0.29187607\n",
      " 0.91777412 0.71457578 0.54254437 0.14217005 0.37334076 0.67413362\n",
      " 0.44183317 0.43401399 0.61776698 0.51313824 0.65039718 0.60103895\n",
      " 0.8052232  0.52164715 0.90864888 0.31923609 0.09045935 0.30070006\n",
      " 0.11398436 0.82868133 0.04689632 0.62628715 0.54758616 0.819287\n",
      " 0.19894754 0.8568503  0.35165264 0.75464769 0.29596171 0.88393648\n",
      " 0.32551164 0.1650159  0.39252924 0.09346037 0.82110566 0.15115202\n",
      " 0.38411445 0.94426071 0.98762547 0.45630455 0.82612284 0.25137413\n",
      " 0.59737165 0.90283176 0.53455795]\n"
     ]
    },
    {
     "data": {
      "text/plain": [
       "array([0.68535982, 0.95339335, 0.00394827, 0.51219226, 0.81262096,\n",
       "       0.61252607, 0.72175532, 0.29187607, 0.91777412, 0.71457578,\n",
       "       0.54254437])"
      ]
     },
     "execution_count": 20,
     "metadata": {},
     "output_type": "execute_result"
    }
   ],
   "source": [
    "np.random.seed(10)\n",
    "B = np.random.rand(9,7)\n",
    "B = np.hstack(B)\n",
    "print(B)\n",
    "ten_twenty = B[10:21] # using indices   \n",
    "ten_twenty"
   ]
  },
  {
   "cell_type": "code",
   "execution_count": 21,
   "metadata": {},
   "outputs": [
    {
     "data": {
      "text/plain": [
       "(array([[10, 16, 65, 29],\n",
       "        [90, 94, 30,  9],\n",
       "        [74,  1, 41, 37],\n",
       "        [17, 12, 55, 89],\n",
       "        [63, 34, 73, 79],\n",
       "        [50, 52, 55, 78]]),\n",
       " array([[10, 16, 65, 29, 17, 12, 55, 89],\n",
       "        [90, 94, 30,  9, 63, 34, 73, 79],\n",
       "        [74,  1, 41, 37, 50, 52, 55, 78]]),\n",
       " 'split_v',\n",
       " [array([[10, 16, 65, 29],\n",
       "         [90, 94, 30,  9],\n",
       "         [74,  1, 41, 37]]),\n",
       "  array([[17, 12, 55, 89],\n",
       "         [63, 34, 73, 79],\n",
       "         [50, 52, 55, 78]])],\n",
       " 'split_h',\n",
       " [array([[10, 16, 65, 29],\n",
       "         [90, 94, 30,  9],\n",
       "         [74,  1, 41, 37]]),\n",
       "  array([[17, 12, 55, 89],\n",
       "         [63, 34, 73, 79],\n",
       "         [50, 52, 55, 78]])])"
      ]
     },
     "execution_count": 21,
     "metadata": {},
     "output_type": "execute_result"
    }
   ],
   "source": [
    "\"\"\" Splitting and Stacking\"\"\"\n",
    "np.random.seed(10)\n",
    "X = np.random.randint(1, 100, size = (3,4))\n",
    "Y = np.random.randint(1, 100, size = (3,4))\n",
    "vertical_Stack = np.vstack((X, Y)) # takes 1 positional argument but 2 were given --> solution (())\n",
    "horizontal_Stack = np.hstack((X, Y))\n",
    "# X = np.hstack(X)\n",
    "# Y = np.vstack(Y)\n",
    "# X = X.reshape(3,4)\n",
    "vertical_Stack, horizontal_Stack\n",
    "split_v = np.vsplit(vertical_Stack, 2) #splits into 2 equal vertical array\n",
    "split_h = np.hsplit(horizontal_Stack, 2) # splits like this [1, 2], [1, 2] --> [1, 1], [2,2]\n",
    "\n",
    "vertical_Stack, horizontal_Stack, \"split_v\", split_v,\"split_h\", split_h"
   ]
  },
  {
   "cell_type": "code",
   "execution_count": 22,
   "metadata": {},
   "outputs": [
    {
     "data": {
      "text/plain": [
       "(array([2.31396193, 0.06225585, 1.9009447 , 2.24641165, 1.49552104,\n",
       "        0.67438994, 0.59418859, 2.28159214, 0.50733251, 0.26501944]),\n",
       " array([1.52117124, 0.24951122, 1.37874751, 1.49880341, 1.22291498,\n",
       "        0.82121248, 0.7708363 , 1.510494  , 0.71227278, 0.51480039]),\n",
       " array([10.11441799,  1.06423459,  6.69221362,  9.45375151,  4.46166064,\n",
       "         1.96283516,  1.81156044,  9.79225862,  1.66085497,  1.30345632]),\n",
       " array([2., 0., 1., 2., 1., 0., 0., 2., 0., 0.]))"
      ]
     },
     "execution_count": 22,
     "metadata": {},
     "output_type": "execute_result"
    }
   ],
   "source": [
    "\"\"\" Root, exponential, floor \"\"\"\n",
    "np.random.seed(10)\n",
    "A = np.random.rand(10) * 3\n",
    "sq = np.sqrt(A) \n",
    "ex = np.exp(A)\n",
    "floor = np.floor(A)\n",
    "A, sq, ex, floor"
   ]
  },
  {
   "cell_type": "code",
   "execution_count": 23,
   "metadata": {},
   "outputs": [
    {
     "data": {
      "text/plain": [
       "array([0.63364823, 0.68535982, 0.51219226, 0.61252607])"
      ]
     },
     "execution_count": 23,
     "metadata": {},
     "output_type": "execute_result"
    }
   ],
   "source": [
    "\"\"\" Boolean Operations \"\"\"\n",
    "np.random.seed(10)\n",
    "C= np.random.rand(20)\n",
    "B = C[(C > 0.5) & (C < 0.7)]\n",
    "#B=C[0.5<C<0.7] Doens't work\n",
    "B"
   ]
  },
  {
   "cell_type": "code",
   "execution_count": 24,
   "metadata": {},
   "outputs": [
    {
     "data": {
      "text/plain": [
       "(array([[0., 1., 2., 3., 4.],\n",
       "        [0., 1., 2., 3., 4.],\n",
       "        [0., 1., 2., 3., 4.],\n",
       "        [0., 1., 2., 3., 4.],\n",
       "        [0., 1., 2., 3., 4.]]),\n",
       " array([1, 2, 3, 4, 5]),\n",
       " array([[1., 3., 5., 7., 9.],\n",
       "        [1., 3., 5., 7., 9.],\n",
       "        [1., 3., 5., 7., 9.],\n",
       "        [1., 3., 5., 7., 9.],\n",
       "        [1., 3., 5., 7., 9.]]))"
      ]
     },
     "execution_count": 24,
     "metadata": {},
     "output_type": "execute_result"
    }
   ],
   "source": [
    "\"\"\" Broadcasting \"\"\"\n",
    "np.random.seed(10)\n",
    "# M = np.random.randint(0, 4, size=(5,5))\n",
    "# V = np.arange(1, 6)\n",
    "# C = M + V\n",
    "# M, V, C\n",
    "M = np.zeros((5, 5)) + np.arange(5)\n",
    "v = np.array([1, 2, 3, 4, 5])\n",
    "D = M + v \n",
    "M, v, D\n",
    "# When adding a 2d array and 1 d array, 1d is added to all the rows of 2d array"
   ]
  },
  {
   "cell_type": "code",
   "execution_count": 25,
   "metadata": {},
   "outputs": [
    {
     "data": {
      "text/plain": [
       "(array([[10, 16, 65, 29, 90, 94],\n",
       "        [30,  9, 74,  1, 41, 37],\n",
       "        [17, 12, 55, 89, 63, 34],\n",
       "        [73, 79, 50, 52, 55, 78]]),\n",
       " array([[10,  9, 50,  1, 41, 34],\n",
       "        [17, 12, 55, 29, 55, 37],\n",
       "        [30, 16, 65, 52, 63, 78],\n",
       "        [73, 79, 74, 89, 90, 94]]),\n",
       " array([[10, 16, 29, 65, 90, 94],\n",
       "        [ 1,  9, 30, 37, 41, 74],\n",
       "        [12, 17, 34, 55, 63, 89],\n",
       "        [50, 52, 55, 73, 78, 79]]))"
      ]
     },
     "execution_count": 25,
     "metadata": {},
     "output_type": "execute_result"
    }
   ],
   "source": [
    "\"\"\" Sorting \"\"\"\n",
    "np.random.seed(10)\n",
    "R = np.random.randint(1,100, size=(4,6))\n",
    "x = np.sort(R, axis=0) # sorts the axis down\n",
    "y = np.sort(R, axis=1) # sorts the axis \n",
    "R, x, y"
   ]
  },
  {
   "cell_type": "code",
   "execution_count": 26,
   "metadata": {},
   "outputs": [
    {
     "data": {
      "text/plain": [
       "(array([1, 2, 4, 5, 6, 7, 9]), array([4, 5, 3, 4, 1, 4, 4], dtype=int64))"
      ]
     },
     "execution_count": 26,
     "metadata": {},
     "output_type": "execute_result"
    }
   ],
   "source": [
    "\"\"\" Count and unique\"\"\"\n",
    "np.random.seed(10)\n",
    "U = np.random.randint(1, 10, size=(5,5))\n",
    "elements, count = np.unique(U, return_counts=True)\n",
    "elements, count\n"
   ]
  },
  {
   "cell_type": "code",
   "execution_count": 27,
   "metadata": {},
   "outputs": [
    {
     "data": {
      "text/plain": [
       "array([[5, 1, 2, 1, 2],\n",
       "       [9, 1, 9, 7, 5],\n",
       "       [4, 1, 5, 7, 9],\n",
       "       [2, 9, 5, 2, 4],\n",
       "       [7, 6, 4, 7, 2]])"
      ]
     },
     "execution_count": 27,
     "metadata": {},
     "output_type": "execute_result"
    }
   ],
   "source": [
    "\"\"\"\"Saving as txt\"\"\"\n",
    "np.random.seed(10)\n",
    "U = np.random.randint(1, 10, size=(5, 5))\n",
    "np.savetxt(\"Multiplied_array.txt\", U)  # Savetxt\n",
    "load_arr = np.loadtxt(\"Multiplied_array.txt\")  # Loadtxt the array with the .txt extension\n",
    "U"
   ]
  }
 ],
 "metadata": {
  "kernelspec": {
   "display_name": "base",
   "language": "python",
   "name": "python3"
  },
  "language_info": {
   "codemirror_mode": {
    "name": "ipython",
    "version": 3
   },
   "file_extension": ".py",
   "mimetype": "text/x-python",
   "name": "python",
   "nbconvert_exporter": "python",
   "pygments_lexer": "ipython3",
   "version": "3.11.5"
  }
 },
 "nbformat": 4,
 "nbformat_minor": 5
}
