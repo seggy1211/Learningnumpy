{
 "cells": [
  {
   "cell_type": "markdown",
   "metadata": {},
   "source": [
    "Grade Book Management System"
   ]
  },
  {
   "cell_type": "code",
   "execution_count": 30,
   "metadata": {},
   "outputs": [],
   "source": [
    "import numpy as np"
   ]
  },
  {
   "cell_type": "code",
   "execution_count": 41,
   "metadata": {},
   "outputs": [
    {
     "data": {
      "text/plain": [
       "array([[78, 44, 74],\n",
       "       [43, 31, 74],\n",
       "       [11, 13, 44],\n",
       "       [85, 31, 11]])"
      ]
     },
     "execution_count": 41,
     "metadata": {},
     "output_type": "execute_result"
    }
   ],
   "source": [
    "\"\"\"\"Data initalization \"\"\"\n",
    "grades = np.array([\n",
    "    [78, 44, 74], # Maths, English, Literature\n",
    "    [43, 31, 74],\n",
    "    [11, 13, 44],\n",
    "    [85, 31, 11]\n",
    "])\n",
    "grades"
   ]
  },
  {
   "cell_type": "code",
   "execution_count": 32,
   "metadata": {},
   "outputs": [
    {
     "name": "stdout",
     "output_type": "stream",
     "text": [
      "[54.25 29.75 50.75]\n"
     ]
    }
   ],
   "source": [
    "\"\"\" Calculating average for subject \"\"\"\n",
    "# grades_maths = grades[0:,0].mean()\n",
    "# grades_eng = grades[0:, 1].mean()\n",
    "# grades_lit = grades[0:, 2].mean()\n",
    "# print(grades_maths, grades_eng, grades_lit)\n",
    "subject_avg = np.mean(grades, axis=0) #axis = 0 goes in colmns |\n",
    "print(subject_avg)"
   ]
  },
  {
   "cell_type": "code",
   "execution_count": 33,
   "metadata": {},
   "outputs": [
    {
     "name": "stdout",
     "output_type": "stream",
     "text": [
      "[65.33333333 49.33333333 22.66666667 42.33333333]\n"
     ]
    }
   ],
   "source": [
    "\"\"\" Calculating average for a student \"\"\"\n",
    "student_avg = np.mean(grades, axis=1)\n",
    "print(student_avg)"
   ]
  },
  {
   "cell_type": "code",
   "execution_count": 46,
   "metadata": {},
   "outputs": [
    {
     "name": "stdout",
     "output_type": "stream",
     "text": [
      "[[78 44 74]\n",
      " [43 31 74]\n",
      " [11 13 44]\n",
      " [85 31 11]]\n"
     ]
    },
    {
     "data": {
      "text/plain": [
       "array([[78, 85, 74],\n",
       "       [43, 85, 74],\n",
       "       [11, 85, 44],\n",
       "       [85, 85, 11]])"
      ]
     },
     "execution_count": 46,
     "metadata": {},
     "output_type": "execute_result"
    }
   ],
   "source": [
    "\"\"\"\" Grade Modification \"\"\"\n",
    "changes_grades = np.array(grades, copy=True)  \n",
    "print(changes_grades)\n",
    "changes_grades[0:, 1] = 85\n",
    "changes_grades"
   ]
  },
  {
   "cell_type": "code",
   "execution_count": 48,
   "metadata": {},
   "outputs": [
    {
     "name": "stdout",
     "output_type": "stream",
     "text": [
      "[54.25 85.   50.75]\n",
      "[79.         67.33333333 46.66666667 60.33333333]\n"
     ]
    }
   ],
   "source": [
    "subject_avg = np.mean(changes_grades, axis=0) #axis = 0 goes in colmns |\n",
    "print(subject_avg)\n",
    "student_avg = np.mean(changes_grades, axis=1)\n",
    "print(student_avg)"
   ]
  },
  {
   "cell_type": "code",
   "execution_count": 49,
   "metadata": {},
   "outputs": [
    {
     "name": "stdout",
     "output_type": "stream",
     "text": [
      "Average Grades for each Subject: [54.25 85.   50.75]\n",
      "Average Grade for each Student: [79.         67.33333333 46.66666667 60.33333333]\n"
     ]
    }
   ],
   "source": [
    "\"\"\"Display results\"\"\"\"\"\n",
    "\n",
    "print(\"Average Grades for each Subject:\", subject_avg)\n",
    "print(\"Average Grade for each Student:\", student_avg)"
   ]
  }
 ],
 "metadata": {
  "kernelspec": {
   "display_name": "base",
   "language": "python",
   "name": "python3"
  },
  "language_info": {
   "codemirror_mode": {
    "name": "ipython",
    "version": 3
   },
   "file_extension": ".py",
   "mimetype": "text/x-python",
   "name": "python",
   "nbconvert_exporter": "python",
   "pygments_lexer": "ipython3",
   "version": "3.11.5"
  }
 },
 "nbformat": 4,
 "nbformat_minor": 5
}
